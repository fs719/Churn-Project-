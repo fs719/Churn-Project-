{
 "cells": [
  {
   "cell_type": "markdown",
   "metadata": {},
   "source": [
    "# 📊 Reducing Customer Churn: A Strategic Framework Using Real Data\n",
    "**Real telecom data, simple tools, powerful takeaways — how to reduce churn, protect revenue, and grow loyalty.**  \n",
    "Fahad Shahbaz | Georgetown University | fs719@georgetown.edu\n",
    "\n",
    "\n",
    "---\n",
    "\n",
    "We use simple data techniques (grouping, mapping, bar charts) to uncover strategic insights on:\n",
    "\n",
    "- **🧭 Contract Type** — Why short-term customers are riskier  \n",
    "- **🕰️ Tenure** — How early experience makes or breaks loyalty  \n",
    "- **💸 Price Sensitivity** — Where discounting helps, and where it hurts  \n"
   ]
  },
  {
   "cell_type": "markdown",
   "metadata": {},
   "source": [
    "![Business Partnership](handshake.png)"
   ]
  },
  {
   "cell_type": "markdown",
   "metadata": {},
   "source": [
    "## Step 1. Load Data "
   ]
  },
  {
   "cell_type": "code",
   "execution_count": 1,
   "metadata": {},
   "outputs": [
    {
     "name": "stdout",
     "output_type": "stream",
     "text": [
      "   customerID  gender  SeniorCitizen Partner Dependents  tenure PhoneService  \\\n",
      "0  7590-VHVEG  Female              0     Yes         No       1           No   \n",
      "1  5575-GNVDE    Male              0      No         No      34          Yes   \n",
      "2  3668-QPYBK    Male              0      No         No       2          Yes   \n",
      "\n",
      "      MultipleLines InternetService OnlineSecurity  ... DeviceProtection  \\\n",
      "0  No phone service             DSL             No  ...               No   \n",
      "1                No             DSL            Yes  ...              Yes   \n",
      "2                No             DSL            Yes  ...               No   \n",
      "\n",
      "  TechSupport StreamingTV StreamingMovies        Contract PaperlessBilling  \\\n",
      "0          No          No              No  Month-to-month              Yes   \n",
      "1          No          No              No        One year               No   \n",
      "2          No          No              No  Month-to-month              Yes   \n",
      "\n",
      "      PaymentMethod MonthlyCharges  TotalCharges Churn  \n",
      "0  Electronic check          29.85         29.85    No  \n",
      "1      Mailed check          56.95        1889.5    No  \n",
      "2      Mailed check          53.85        108.15   Yes  \n",
      "\n",
      "[3 rows x 21 columns]\n"
     ]
    }
   ],
   "source": [
    "\n",
    "import pandas as pd\n",
    "\n",
    "url = \"https://raw.githubusercontent.com/IBM/telco-customer-churn-on-icp4d/master/data/Telco-Customer-Churn.csv\"\n",
    "df = pd.read_csv(url)\n",
    "\n",
    "\n",
    "# Preview first rows\n",
    "print(df.head(3))"
   ]
  },
  {
   "cell_type": "markdown",
   "metadata": {},
   "source": [
    "## Step 2. Quick Look at our Data"
   ]
  },
  {
   "cell_type": "code",
   "execution_count": 10,
   "metadata": {},
   "outputs": [
    {
     "name": "stdout",
     "output_type": "stream",
     "text": [
      "Shape: (7043, 21)\n",
      "  Churn        Contract  MonthlyCharges  tenure\n",
      "0    No  Month-to-month           29.85       1\n",
      "1    No        One year           56.95      34\n",
      "2   Yes  Month-to-month           53.85       2\n",
      "3    No        One year           42.30      45\n",
      "4   Yes  Month-to-month           70.70       2\n"
     ]
    }
   ],
   "source": [
    "# Number of rows and columns\n",
    "print(\"Shape:\", df.shape)\n",
    "\n",
    "# Columns of interest\n",
    "print(df[['Churn','Contract','MonthlyCharges','tenure']].head())\n"
   ]
  },
  {
   "cell_type": "markdown",
   "metadata": {},
   "source": [
    "### 🔍 What we're asking: How Many Customers Leave?\n",
    "\n",
    "We start with the overall churn rate — how many customers leave compared to all customers.  \n",
    "This gives us a sense of the size of the problem."
   ]
  },
  {
   "cell_type": "markdown",
   "metadata": {},
   "source": [
    "## Step 3. Overall Churn Rate"
   ]
  },
  {
   "cell_type": "code",
   "execution_count": 22,
   "metadata": {},
   "outputs": [
    {
     "name": "stdout",
     "output_type": "stream",
     "text": [
      "Overall Churn Rate: 26.5%\n"
     ]
    }
   ],
   "source": [
    "# Turn \"Yes/No\" into 1/0\n",
    "df['ChurnNum'] = df['Churn'].map({'Yes':1, 'No':0})\n",
    "\n",
    "# Average = churn rate\n",
    "churn_rate = df['ChurnNum'].mean() * 100\n",
    "print(f\"Overall Churn Rate: {churn_rate:.1f}%\")\n"
   ]
  },
  {
   "cell_type": "markdown",
   "metadata": {},
   "source": [
    "### 💡 Strategic Takeaway:  About one in four customers leave (~26%).\n",
    "This is high — and it means even small improvements matter.  \n",
    "For any company, lowering churn by just a few points can protect major revenue without spending more on finding new clients***.\n"
   ]
  },
  {
   "cell_type": "markdown",
   "metadata": {},
   "source": [
    "## Step 4. Commitment Matters: Churn by Contract Type\n",
    "### 🔍 What we're asking:. Are customers with short contracts more likely to leave than those who commit longer?***\n"
   ]
  },
  {
   "cell_type": "code",
   "execution_count": 12,
   "metadata": {},
   "outputs": [
    {
     "name": "stdout",
     "output_type": "stream",
     "text": [
      "Contract\n",
      "Month-to-month    42.709677\n",
      "One year          11.269518\n",
      "Two year           2.831858\n",
      "Name: ChurnNum, dtype: float64\n"
     ]
    }
   ],
   "source": [
    "churn_by_contract = df.groupby('Contract')['ChurnNum'].mean() * 100\n",
    "print(churn_by_contract)\n"
   ]
  },
  {
   "cell_type": "code",
   "execution_count": 17,
   "metadata": {},
   "outputs": [
    {
     "data": {
      "image/png": "[encoded data removed]",
      "text/plain": [
       "<Figure size 640x480 with 1 Axes>"
      ]
     },
     "metadata": {},
     "output_type": "display_data"
    }
   ],
   "source": [
    "import matplotlib.pyplot as plt\n",
    "\n",
    "churn_by_contract.plot(kind='bar', color=['#1f77b4', '#ff7f0e', '#2ca02c'])\n",
    "plt.title(\"Churn by Contract Type (%)\")\n",
    "plt.ylabel(\"Churn Rate (%)\")\n",
    "plt.xlabel(\"Contract Type\")\n",
    "plt.show()\n"
   ]
  },
  {
   "cell_type": "markdown",
   "metadata": {},
   "source": [
    "***### 📊 Why this chart 1 matters: Short-term customers churn more — visual proof that commitment reduces risk.***"
   ]
  },
  {
   "cell_type": "markdown",
   "metadata": {},
   "source": [
    "### 💡 Strategic Takeaway:  Month-to-month customers churn far more than yearly ones.  \n",
    "This shows the least-committed clients are the biggest risk.  \n",
    "\n",
    " Encourage them to stay longer — with loyalty rewards, small annual plan discounts, or extra support.  \n",
    "Every industry faces this: when people have a free exit, they’re more likely to leave unless you give them reasons to stay.\n"
   ]
  },
  {
   "cell_type": "markdown",
   "metadata": {},
   "source": [
    "##  Step 5. Churn by Tenure\n",
    "\n",
    "***Are new customers more fragile than those who have stayed longer? Let’s compare customers in their first year versus everyone else.***\n"
   ]
  },
  {
   "cell_type": "code",
   "execution_count": 14,
   "metadata": {},
   "outputs": [
    {
     "name": "stdout",
     "output_type": "stream",
     "text": [
      "TenureGroup\n",
      "Early    48.284195\n",
      "Long     17.490953\n",
      "Name: ChurnNum, dtype: float64\n"
     ]
    }
   ],
   "source": [
    "# Early vs. long-tenure customers\n",
    "df['TenureGroup'] = df['tenure'].apply(lambda x: 'Early' if x < 12 else 'Long')\n",
    "churn_by_tenure = df.groupby('TenureGroup')['ChurnNum'].mean() * 100\n",
    "print(churn_by_tenure)\n"
   ]
  },
  {
   "cell_type": "code",
   "execution_count": 19,
   "metadata": {},
   "outputs": [
    {
     "data": {
      "image/png": "[encoded data removed]",
      "text/plain": [
       "<Figure size 640x480 with 1 Axes>"
      ]
     },
     "metadata": {},
     "output_type": "display_data"
    }
   ],
   "source": [
    "churn_by_tenure.plot(kind='bar', title=\"Churn by Tenure Group (%)\", color=['#1f77b4', '#ff7f0e'])\n",
    "plt.ylabel(\"Churn Rate (%)\")\n",
    "plt.show()"
   ]
  },
  {
   "cell_type": "markdown",
   "metadata": {},
   "source": [
    "***### 📊 Why this chart 2 matters: New customers are the most fragile — early churn undermines long-term value.***"
   ]
  },
  {
   "cell_type": "markdown",
   "metadata": {},
   "source": [
    "### 💡 Strategic Takeaway:  Early-tenure customers churn at much higher rates.  \n",
    "If a customer leaves in the first months, the business never sees their lifetime value.  \n",
    "\n",
    "Invest in strong onboarding and early positive experiences.  \n",
    "The first 6–12 months are the “golden window” for turning a trial client into a loyal one.\n"
   ]
  },
  {
   "cell_type": "markdown",
   "metadata": {},
   "source": [
    "## Step 6.  Price Sensitivity: Churn by Monthly Charges\n",
    "\n",
    "***Finally, let’s see if churn changes by price band. Do lower- or higher-paying customers behave differently?***\n"
   ]
  },
  {
   "cell_type": "code",
   "execution_count": 20,
   "metadata": {},
   "outputs": [
    {
     "name": "stdout",
     "output_type": "stream",
     "text": [
      "PriceBand\n",
      "Low (<$50)       15.736704\n",
      "Mid ($50–$80)    28.900624\n",
      "High (>$80)      33.983496\n",
      "Name: ChurnNum, dtype: float64\n"
     ]
    }
   ],
   "source": [
    "#  Churn by simple price bands\n",
    "def price_band(x):\n",
    "    if x < 50: return 'Low (<$50)'\n",
    "    elif x <= 80: return 'Mid ($50–$80)'\n",
    "    else: return 'High (>$80)'\n",
    "\n",
    "df['PriceBand'] = df['MonthlyCharges'].apply(price_band)\n",
    "churn_by_price = df.groupby('PriceBand')['ChurnNum'].mean().sort_values() * 100\n",
    "print(churn_by_price)\n"
   ]
  },
  {
   "cell_type": "markdown",
   "metadata": {},
   "source": [
    "### 💡 Strategic Takeaway: \n",
    "Some price bands churn more than others — showing clear price sensitivity.  The price band thresholds (<$50, $50–$80, >$80) seem arbitrary. Add a brief note explaining why you chose them, e.g., “These bands reflect common pricing tiers in telecom subscriptions.” This shows thoughtfulness.\n",
    "\n",
    "Instead of discounting for everyone, target offers and service improvements to the most at-risk price group.  \n",
    "This keeps margins healthier while focusing effort where it matters most.\n"
   ]
  },
  {
   "cell_type": "markdown",
   "metadata": {},
   "source": [
    "# Executive Summary: Lessons Any Firm Can Use\n",
    "\n",
    "- **Churn is high (~26%)** → even small improvements protect big revenue.  \n",
    "- **Least-committed clients leave most** → loyalty incentives or annual nudges help.  \n",
    "- **New customers are fragile** → the first months are the golden window; strong onboarding reduces quick exits.  \n",
    "- **Price sensitivity shows up** (optional) → smarter, targeted offers beat blanket discounts.  \n",
    "\n",
    "**Why this matters:**  \n",
    "These lessons apply beyond telecom. Banks, consultancies, and financial firms all face the same challenge: protect current clients, build commitment, and focus resources where risk is highest.  \n",
    "That’s how data turns into strategy.\n"
   ]
  },
  {
   "cell_type": "markdown",
   "metadata": {},
   "source": [
    "# Industry Relevance\n",
    "\n",
    "For [COMPANY NAME], these lessons are directly applicable.  \n",
    "Just as telecoms must retain subscribers, [COMPANY NAME] must retain its most valuable clients.  \n",
    "Focusing on commitment, onboarding, and risk-targeted offers strengthens relationships, stabilizes revenue,  \n",
    "and builds long-term trust — critical for success in [COMPANY NAME]’s industry.\n",
    "For [SaaS Company], I’d analyze user engagement data to identify at-risk subscribers, similar to this telecom churn analysis."
   ]
  },
  {
   "cell_type": "code",
   "execution_count": null,
   "metadata": {},
   "outputs": [],
   "source": []
  }
 ],
 "metadata": {
  "kernelspec": {
   "display_name": "Python (myproject)",
   "language": "python",
   "name": "myproject"
  },
  "language_info": {
   "codemirror_mode": {
    "name": "ipython",
    "version": 3
   },
   "file_extension": ".py",
   "mimetype": "text/x-python",
   "name": "python",
   "nbconvert_exporter": "python",
   "pygments_lexer": "ipython3",
   "version": "3.12.10"
  }
 },
 "nbformat": 4,
 "nbformat_minor": 2
}
